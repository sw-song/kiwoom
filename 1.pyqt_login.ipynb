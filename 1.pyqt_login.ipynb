{
 "cells": [
  {
   "cell_type": "code",
   "execution_count": null,
   "source": [
    "import sys\r\n",
    "from PyQt5.QtWidgets import *\r\n",
    "from PyQt5.QtGui import *\r\n",
    "from PyQt5.QAxContainer import *\r\n",
    "from PyQt5.QtCore import QCoreApplication"
   ],
   "outputs": [
    {
     "output_type": "error",
     "ename": "Error",
     "evalue": "Session cannot generate requests",
     "traceback": [
      "Error: Session cannot generate requests",
      "at w.executeCodeCell (c:\\Users\\sw930\\.vscode\\extensions\\ms-toolsai.jupyter-2021.8.1236758218\\out\\client\\extension.js:90:327199)",
      "at w.execute (c:\\Users\\sw930\\.vscode\\extensions\\ms-toolsai.jupyter-2021.8.1236758218\\out\\client\\extension.js:90:326520)",
      "at w.start (c:\\Users\\sw930\\.vscode\\extensions\\ms-toolsai.jupyter-2021.8.1236758218\\out\\client\\extension.js:90:322336)",
      "at runMicrotasks (<anonymous>)",
      "at processTicksAndRejections (internal/process/task_queues.js:93:5)",
      "at async t.CellExecutionQueue.executeQueuedCells (c:\\Users\\sw930\\.vscode\\extensions\\ms-toolsai.jupyter-2021.8.1236758218\\out\\client\\extension.js:90:336863)",
      "at async t.CellExecutionQueue.start (c:\\Users\\sw930\\.vscode\\extensions\\ms-toolsai.jupyter-2021.8.1236758218\\out\\client\\extension.js:90:336403)"
     ]
    }
   ],
   "metadata": {}
  },
  {
   "cell_type": "markdown",
   "source": [
    "## 1. PyQt 기본 실행 코드"
   ],
   "metadata": {}
  },
  {
   "cell_type": "code",
   "execution_count": 3,
   "source": [
    "# 재실행 가능하도록 하는 코드(kernel dead 방지)\r\n",
    "app = QCoreApplication.instance()\r\n",
    "if app is None : \r\n",
    "    app = QApplication(sys.argv) \r\n",
    "\r\n",
    "label = QLabel('Hello PyQt')\r\n",
    "label.show()\r\n",
    "app.exec_()"
   ],
   "outputs": [
    {
     "output_type": "execute_result",
     "data": {
      "text/plain": [
       "0"
      ]
     },
     "metadata": {},
     "execution_count": 3
    }
   ],
   "metadata": {}
  },
  {
   "cell_type": "markdown",
   "source": [
    "## 2. PyQt 윈도우 생성"
   ],
   "metadata": {}
  },
  {
   "cell_type": "code",
   "execution_count": 4,
   "source": [
    "class MyWindow(QMainWindow):\r\n",
    "    def __init__(self):\r\n",
    "        super().__init__()\r\n",
    "        self.setWindowTitle('PyStock')\r\n",
    "        self.setGeometry(300,300,300,400)\r\n",
    "\r\n",
    "# app 할당\r\n",
    "app = QCoreApplication.instance()\r\n",
    "if app is None :\r\n",
    "    app = QApplication(sys.argv)\r\n",
    "\r\n",
    "# 윈도우 생성\r\n",
    "mywindow = MyWindow()\r\n",
    "mywindow.show()\r\n",
    "\r\n",
    "# 루프\r\n",
    "app.exec_()"
   ],
   "outputs": [
    {
     "output_type": "execute_result",
     "data": {
      "text/plain": [
       "0"
      ]
     },
     "metadata": {},
     "execution_count": 4
    }
   ],
   "metadata": {}
  },
  {
   "cell_type": "markdown",
   "source": [
    "## 3. 클릭 이벤트 생성"
   ],
   "metadata": {}
  },
  {
   "cell_type": "code",
   "execution_count": 6,
   "source": [
    "class MyWindow(QMainWindow):\r\n",
    "    def __init__(self):\r\n",
    "        super().__init__()\r\n",
    "        self.setWindowTitle('PyStock')\r\n",
    "        self.setGeometry(300,300,300,400)\r\n",
    "\r\n",
    "        btn = QPushButton('Click this btn', self) # 버튼 할당\r\n",
    "        btn.move(20,20) # 버튼이 생성될 위치 조정\r\n",
    "        btn.clicked.connect(self.btn_clicked) # 버튼 눌렀을 때 btn_clicked 동작\r\n",
    "\r\n",
    "    def btn_clicked(self):\r\n",
    "        QMessageBox.about(self, 'EVENT','hi! its event window') # 이벤트발생 : 메시지창\r\n",
    "\r\n",
    "# app 할당\r\n",
    "app = QCoreApplication.instance()\r\n",
    "if app is None:\r\n",
    "    app = QApplication(sys.argv)\r\n",
    "\r\n",
    "# 윈도우 생성\r\n",
    "mywindow = MyWindow()\r\n",
    "mywindow.show()\r\n",
    "\r\n",
    "# 루프(종료버튼 누를때까지)\r\n",
    "app.exec_()"
   ],
   "outputs": [
    {
     "output_type": "execute_result",
     "data": {
      "text/plain": [
       "0"
      ]
     },
     "metadata": {},
     "execution_count": 6
    }
   ],
   "metadata": {}
  },
  {
   "cell_type": "markdown",
   "source": [
    "## 4. 키움증권 로그인"
   ],
   "metadata": {}
  },
  {
   "cell_type": "code",
   "execution_count": 2,
   "source": [
    "class MyWindow(QMainWindow):\r\n",
    "    def __init__(self):\r\n",
    "        super().__init__()\r\n",
    "        # self는 gui 창을 뜻함\r\n",
    "        self.setWindowTitle('PyStock')\r\n",
    "        self.setGeometry(300,300,300,400)\r\n",
    "\r\n",
    "        # 키움증권에서 제공하는 클래스를 사용하기 위해\r\n",
    "        # PC 레지스터에 등록된 고유 ID 값을 생성자로, 인스턴스 생성\r\n",
    "        self.kiwoom = QAxWidget(\"KHOPENAPI.KHOpenAPICtrl.1\")\r\n",
    "\r\n",
    "        btn1 = QPushButton('Login', self)\r\n",
    "        btn1.move(20,20)\r\n",
    "        btn1.clicked.connect(self.btn1_evnt) # btn1 클릭 -> btn1_evnt 동작\r\n",
    "\r\n",
    "        btn2 = QPushButton('State', self)\r\n",
    "        btn2.move(20,60)\r\n",
    "        btn2.clicked.connect(self.btn2_evnt) # btn2 클릭 -> btn2_evnt 동작\r\n",
    "\r\n",
    "    def btn1_evnt(self):\r\n",
    "        # self는 gui 창을 뜻함\r\n",
    "        # 위에서 생성한 kiwoom 인스턴스로 키움 api에서 제공하는 다양한 메서드를 다룰 수 있음.\r\n",
    "        ret = self.kiwoom.dynamicCall('CommConnect()') # 키움api에서 제공하는 로그인 메서드\r\n",
    "\r\n",
    "    def btn2_evnt(self):\r\n",
    "        # self는 gui 창을 뜻함\r\n",
    "        # GetConnectState()는 키움 api에서 제공하는 '접속 상태 반환' 메서드\r\n",
    "        if self.kiwoom.dynamicCall('GetConnectState()') == 0:\r\n",
    "            self.statusBar().showMessage('Not Connected')\r\n",
    "        \r\n",
    "        else:\r\n",
    "            self.statusBar().showMessage('Connected')\r\n",
    "\r\n",
    "# 앱 할당\r\n",
    "app = QCoreApplication.instance()\r\n",
    "if app is None:\r\n",
    "    app = QApplication(sys.argv)\r\n",
    "\r\n",
    "\r\n",
    "# 앱 GUI 실행\r\n",
    "mywindow = MyWindow()\r\n",
    "mywindow.show()    \r\n",
    "\r\n",
    "# 앱 루프\r\n",
    "app.exec_()\r\n"
   ],
   "outputs": [
    {
     "output_type": "execute_result",
     "data": {
      "text/plain": [
       "0"
      ]
     },
     "metadata": {},
     "execution_count": 2
    }
   ],
   "metadata": {}
  },
  {
   "cell_type": "markdown",
   "source": [
    "## 5. 자동 로그인 및 접속 상태 반환"
   ],
   "metadata": {}
  },
  {
   "cell_type": "code",
   "execution_count": null,
   "source": [
    "class MyWindow(QMainWindow):\r\n",
    "    def __init__(self):\r\n",
    "        super().__init__()\r\n",
    "        self.setWindowTitle('PyStock')\r\n",
    "        self.setGeometry(300, 300, 300, 150)\r\n",
    "\r\n",
    "        # api 연결\r\n",
    "        self.kiwoom = QAxWidget(\"KHOPENAPI.KHOpenAPICtrl.1\")\r\n",
    "\r\n",
    "        # 키움증권 로그인\r\n",
    "        self.kiwoom.dynamicCall('CommConnect()')\r\n",
    "\r\n",
    "        # 빈 텍스트 상자 할당\r\n",
    "        self.textbox = QTextEdit(self)\r\n",
    "        self.textbox.setGeometry(10,60,200,60) # 텍스트 위치 조정\r\n",
    "        self.textbox.setEnabled(False) # 쓰기모드 해제\r\n",
    "\r\n",
    "        # 키움증권 서버에 로그인을 시도하면 OnEventConnect 이벤트가 발생한다.\r\n",
    "        # 이를 활용해 해당 이벤트가 발생하는 경우 login_state를 동작하도록 하면\r\n",
    "        # 로그인과 동시에 접속 상태를 반환할 수 있다.\r\n",
    "        self.kiwoom.OnEventConnect.connect(self.login_state)\r\n",
    "        \r\n",
    "        # 로그인 이벤트 발생시 접속 상태 반환 함수\r\n",
    "    def login_state(self, nErrCode):\r\n",
    "        if nErrCode == 0: # 로그인 이벤트는 nErrCode(Error Code)를 입력값으로 가진다.\r\n",
    "                                 # nErrCode가 0이면 로그인 성공, 음수면 실패다.\r\n",
    "            self.textbox.append('login success') # 로그인이 성공한 경우 텍스트상자에 login success 메시지를 띄운다.\r\n",
    "        else:\r\n",
    "            self.textbox.append('login failed')\r\n",
    "\r\n",
    "# app 할당\r\n",
    "# app 할당\r\n",
    "app = QCoreApplication.instance()\r\n",
    "if app is None:\r\n",
    "    app = QApplication(sys.argv)\r\n",
    "\r\n",
    "\r\n",
    "# window 생성\r\n",
    "window = MyWindow()\r\n",
    "window.show()\r\n",
    "\r\n",
    "# app 반복\r\n",
    "app.exec_()"
   ],
   "outputs": [
    {
     "output_type": "error",
     "ename": "Error",
     "evalue": "Session cannot generate requests",
     "traceback": [
      "Error: Session cannot generate requests",
      "at w.executeCodeCell (c:\\Users\\sw930\\.vscode\\extensions\\ms-toolsai.jupyter-2021.8.1236758218\\out\\client\\extension.js:90:327199)",
      "at w.execute (c:\\Users\\sw930\\.vscode\\extensions\\ms-toolsai.jupyter-2021.8.1236758218\\out\\client\\extension.js:90:326520)",
      "at w.start (c:\\Users\\sw930\\.vscode\\extensions\\ms-toolsai.jupyter-2021.8.1236758218\\out\\client\\extension.js:90:322336)",
      "at processTicksAndRejections (internal/process/task_queues.js:93:5)",
      "at async t.CellExecutionQueue.executeQueuedCells (c:\\Users\\sw930\\.vscode\\extensions\\ms-toolsai.jupyter-2021.8.1236758218\\out\\client\\extension.js:90:336863)",
      "at async t.CellExecutionQueue.start (c:\\Users\\sw930\\.vscode\\extensions\\ms-toolsai.jupyter-2021.8.1236758218\\out\\client\\extension.js:90:336403)"
     ]
    }
   ],
   "metadata": {}
  },
  {
   "cell_type": "code",
   "execution_count": null,
   "source": [],
   "outputs": [],
   "metadata": {}
  }
 ],
 "metadata": {
  "kernelspec": {
   "name": "python3",
   "display_name": "Python 3.8.11 32-bit ('kiwoom_env': conda)"
  },
  "language_info": {
   "codemirror_mode": {
    "name": "ipython",
    "version": 3
   },
   "file_extension": ".py",
   "mimetype": "text/x-python",
   "name": "python",
   "nbconvert_exporter": "python",
   "pygments_lexer": "ipython3",
   "version": "3.8.11"
  },
  "interpreter": {
   "hash": "1d77e4c3da5f17513a8b2db08a39304e94736bd40c162528edcf50b77be7e9a5"
  }
 },
 "nbformat": 4,
 "nbformat_minor": 5
}
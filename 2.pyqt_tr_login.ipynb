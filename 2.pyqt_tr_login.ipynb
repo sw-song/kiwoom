{
 "cells": [
  {
   "cell_type": "code",
   "execution_count": 1,
   "source": [
    "import sys\r\n",
    "from PyQt5.QtWidgets import *\r\n",
    "from PyQt5.QtGui import *\r\n",
    "from PyQt5.QAxContainer import *\r\n",
    "from PyQt5.QtCore import QCoreApplication"
   ],
   "outputs": [],
   "metadata": {}
  },
  {
   "cell_type": "markdown",
   "source": [
    "## 1. 종목 조회 GUI 구현 "
   ],
   "metadata": {}
  },
  {
   "cell_type": "code",
   "execution_count": 3,
   "source": [
    "class MyWindow(QMainWindow):\r\n",
    "    def __init__(self):\r\n",
    "        super().__init__()\r\n",
    "        self.setWindowTitle('PyStock')\r\n",
    "        self.setGeometry(300,300,300,200)\r\n",
    "\r\n",
    "        # 텍스트 표시 구간\r\n",
    "        label = QLabel('Code: ', self)\r\n",
    "        label.move(20,20)\r\n",
    "\r\n",
    "        # 종목코드 입력창 구간\r\n",
    "        self.input_code = QLineEdit(self) # 텍스트 입력 상자\r\n",
    "        self.input_code.move(80,20)\r\n",
    "        self.input_code.setText('039490') # 종목코드 039490 입력\r\n",
    "\r\n",
    "        # 실행(조회) 클릭버튼 구간\r\n",
    "        btn = QPushButton('click', self)\r\n",
    "        btn.move(190,20)\r\n",
    "\r\n",
    "        # 로그 표시할 텍스트상자 구간\r\n",
    "        self.textbox = QTextEdit(self)\r\n",
    "        self.textbox.setGeometry(10,60,280,80)\r\n",
    "        self.textbox.setEnabled(False) # 입력 X\r\n",
    "\r\n",
    "# 앱 생성\r\n",
    "app = QCoreApplication.instance()\r\n",
    "if app is None:\r\n",
    "    app = QApplication(sys.argv)\r\n",
    "\r\n",
    "# GUI 표시\r\n",
    "window = MyWindow()\r\n",
    "window.show()\r\n",
    "\r\n",
    "# 앱 반복실행\r\n",
    "app.exec_()"
   ],
   "outputs": [
    {
     "output_type": "execute_result",
     "data": {
      "text/plain": [
       "0"
      ]
     },
     "metadata": {},
     "execution_count": 3
    }
   ],
   "metadata": {}
  },
  {
   "cell_type": "markdown",
   "source": [
    "## 2. 종목 조회 창 열림과 동시에 로그인 및 접속 상태 출력"
   ],
   "metadata": {}
  },
  {
   "cell_type": "code",
   "execution_count": 6,
   "source": [
    "class MyWindow(QMainWindow):\r\n",
    "    def __init__(self):\r\n",
    "        super().__init__()\r\n",
    "\r\n",
    "#____________________코드추가________________________#\r\n",
    "        # 키움증권 자동 로그인\r\n",
    "        self.kiwoom = QAxWidget(\"KHOPENAPI.KHOpenAPICtrl.1\")\r\n",
    "        self.kiwoom.dynamicCall('CommConnect()')\r\n",
    "        self.kiwoom.OnEventConnect.connect(self.event_connect)\r\n",
    "#___________________________________________________#\r\n",
    "\r\n",
    "        self.setWindowTitle('PyStock')\r\n",
    "        self.setGeometry(300,300,300,200)\r\n",
    "\r\n",
    "        # 텍스트 표시 구간\r\n",
    "        label = QLabel('Code: ', self)\r\n",
    "        label.move(20,20)\r\n",
    "\r\n",
    "        # 종목코드 입력창 구간\r\n",
    "        self.input_code = QLineEdit(self) # 텍스트 입력 상자\r\n",
    "        self.input_code.move(80,20)\r\n",
    "        self.input_code.setText('039490') # 종목코드 039490 입력\r\n",
    "\r\n",
    "        # 실행(조회) 클릭버튼 구간\r\n",
    "        btn = QPushButton('click', self)\r\n",
    "        btn.move(190,20)\r\n",
    "\r\n",
    "        # 로그 표시할 텍스트상자 구간\r\n",
    "        self.textbox = QTextEdit(self)\r\n",
    "        self.textbox.setGeometry(10,60,280,80)\r\n",
    "        self.textbox.setEnabled(False) # 입력 X\r\n",
    "\r\n",
    "#____________________코드추가________________________#\r\n",
    "    # 로그인 완료 -> 연결 상태 출력(텍스트상자)\r\n",
    "    def event_connect(self, err_code):\r\n",
    "        if err_code==0:\r\n",
    "            self.textbox.append('login success')\r\n",
    "        else:\r\n",
    "            self.textbox.append('login failed')\r\n",
    "#___________________________________________________#\r\n",
    "\r\n",
    "\r\n",
    "# 앱 생성\r\n",
    "app = QCoreApplication.instance()\r\n",
    "if app is None:\r\n",
    "    app = QApplication(sys.argv)\r\n",
    "\r\n",
    "# GUI 표시\r\n",
    "window = MyWindow()\r\n",
    "window.show()\r\n",
    "\r\n",
    "# 앱 반복실행\r\n",
    "app.exec_()"
   ],
   "outputs": [],
   "metadata": {}
  }
 ],
 "metadata": {
  "orig_nbformat": 4,
  "language_info": {
   "name": "python",
   "version": "3.8.11",
   "mimetype": "text/x-python",
   "codemirror_mode": {
    "name": "ipython",
    "version": 3
   },
   "pygments_lexer": "ipython3",
   "nbconvert_exporter": "python",
   "file_extension": ".py"
  },
  "kernelspec": {
   "name": "python3",
   "display_name": "Python 3.8.11 32-bit ('kiwoom_env': conda)"
  },
  "interpreter": {
   "hash": "1d77e4c3da5f17513a8b2db08a39304e94736bd40c162528edcf50b77be7e9a5"
  }
 },
 "nbformat": 4,
 "nbformat_minor": 2
}
{
 "cells": [
  {
   "cell_type": "code",
   "execution_count": 1,
   "source": [
    "import sqlite3"
   ],
   "outputs": [],
   "metadata": {}
  },
  {
   "cell_type": "code",
   "execution_count": 2,
   "source": [
    "print(sqlite3.version)\r\n",
    "print(sqlite3.sqlite_version)"
   ],
   "outputs": [
    {
     "output_type": "stream",
     "name": "stdout",
     "text": [
      "2.6.0\n",
      "3.35.4\n"
     ]
    }
   ],
   "metadata": {}
  },
  {
   "cell_type": "markdown",
   "source": [
    "## 1. Database 생성"
   ],
   "metadata": {}
  },
  {
   "cell_type": "code",
   "execution_count": 3,
   "source": [
    "con = sqlite3.connect('c:/Users/sw930/code/kiwoom/kospi.db')\r\n",
    "type(con)"
   ],
   "outputs": [
    {
     "output_type": "execute_result",
     "data": {
      "text/plain": [
       "sqlite3.Connection"
      ]
     },
     "metadata": {},
     "execution_count": 3
    }
   ],
   "metadata": {}
  },
  {
   "cell_type": "code",
   "execution_count": 4,
   "source": [
    "# kospi.db 파일 생성 확인a\r\n",
    "!ls"
   ],
   "outputs": [
    {
     "output_type": "stream",
     "name": "stdout",
     "text": [
      "1.pyqt_login.ipynb\n",
      "2.pyqt_tr_login.ipynb\n",
      "3.pyqt_tr_event.ipynb\n",
      "4.pyqt_tr_get_stockinfo.py\n",
      "5.pyqt_tr_get_loginfo.py\n",
      "6.pyqt_tr_get_code.py\n",
      "7.sqlite_connect.ipynb\n",
      "99.pykiwoom_test.ipynb\n",
      "README.md\n",
      "kospi.db\n",
      "log.txt\n"
     ]
    }
   ],
   "metadata": {}
  },
  {
   "cell_type": "markdown",
   "source": [
    "## 2. Database 연결"
   ],
   "metadata": {}
  },
  {
   "cell_type": "code",
   "execution_count": 5,
   "source": [
    "# cursor 객체 생성(sql사용을 위함)\r\n",
    "cursor = con.cursor()\r\n",
    "cursor"
   ],
   "outputs": [
    {
     "output_type": "execute_result",
     "data": {
      "text/plain": [
       "<sqlite3.Cursor at 0x64154e0>"
      ]
     },
     "metadata": {},
     "execution_count": 5
    }
   ],
   "metadata": {}
  },
  {
   "cell_type": "markdown",
   "source": [
    "## 3. DB 내 테이블 생성"
   ],
   "metadata": {}
  },
  {
   "cell_type": "code",
   "execution_count": 6,
   "source": [
    "# cursor객체로 sql문 실행(테이블 생성 명령)\r\n",
    "cursor.execute(\r\n",
    "    \"\"\"\r\n",
    "    CREATE TABLE kakao(Date text, Open int, High int, Low int, Closing int, Volumn int)\r\n",
    "    \"\"\"\r\n",
    ")"
   ],
   "outputs": [
    {
     "output_type": "execute_result",
     "data": {
      "text/plain": [
       "<sqlite3.Cursor at 0x64154e0>"
      ]
     },
     "metadata": {},
     "execution_count": 6
    }
   ],
   "metadata": {}
  },
  {
   "cell_type": "code",
   "execution_count": 7,
   "source": [
    "# 생성한 테이블에 데이터 삽입\r\n",
    "cursor.execute(\r\n",
    "    \"\"\"\r\n",
    "    INSERT INTO kakao VALUES('16.06.03', 97000, 98600, 96900, 98000, 321405)\r\n",
    "    \"\"\"\r\n",
    ")"
   ],
   "outputs": [
    {
     "output_type": "execute_result",
     "data": {
      "text/plain": [
       "<sqlite3.Cursor at 0x64154e0>"
      ]
     },
     "metadata": {},
     "execution_count": 7
    }
   ],
   "metadata": {}
  },
  {
   "cell_type": "code",
   "execution_count": 8,
   "source": [
    "# 행 한개 더 삽입\r\n",
    "cursor.execute(\r\n",
    "    \"\"\"\r\n",
    "    INSERT INTO kakao VALUES('16.06.02', 99000, 99300, 96300, 97500, 556790)\r\n",
    "    \"\"\"\r\n",
    ")"
   ],
   "outputs": [
    {
     "output_type": "execute_result",
     "data": {
      "text/plain": [
       "<sqlite3.Cursor at 0x64154e0>"
      ]
     },
     "metadata": {},
     "execution_count": 8
    }
   ],
   "metadata": {}
  },
  {
   "cell_type": "markdown",
   "source": [
    "위 삽입한 내용은 아직 con 객체에 머물러있다. 이를 실제 DB에 반영해줘야한다."
   ],
   "metadata": {}
  },
  {
   "cell_type": "code",
   "execution_count": 9,
   "source": [
    "# DB 반영\r\n",
    "# con = sqlite3.connect('c:/Users/sw930/code/kiwoom/kospi.db')\r\n",
    "con.commit()"
   ],
   "outputs": [],
   "metadata": {}
  },
  {
   "cell_type": "code",
   "execution_count": 10,
   "source": [
    "# 연결 해제\r\n",
    "con.close()"
   ],
   "outputs": [],
   "metadata": {}
  },
  {
   "cell_type": "markdown",
   "source": [
    "## 4. DB에서 데이터 읽기"
   ],
   "metadata": {}
  },
  {
   "cell_type": "code",
   "execution_count": 11,
   "source": [
    "con = sqlite3.connect('c:/Users/sw930/code/kiwoom/kospi.db')\r\n",
    "cursor = con.cursor()"
   ],
   "outputs": [],
   "metadata": {}
  },
  {
   "cell_type": "code",
   "execution_count": 17,
   "source": [
    "cursor.execute(\r\n",
    "    \"\"\"\r\n",
    "    SELECT * FROM kakao\r\n",
    "    \"\"\"\r\n",
    ")"
   ],
   "outputs": [
    {
     "output_type": "execute_result",
     "data": {
      "text/plain": [
       "<sqlite3.Cursor at 0x6415520>"
      ]
     },
     "metadata": {},
     "execution_count": 17
    }
   ],
   "metadata": {}
  },
  {
   "cell_type": "code",
   "execution_count": 18,
   "source": [
    "kakao = cursor.fetchall()\r\n",
    "kakao"
   ],
   "outputs": [
    {
     "output_type": "execute_result",
     "data": {
      "text/plain": [
       "[('16.06.03', 97000, 98600, 96900, 98000, 321405),\n",
       " ('16.06.02', 99000, 99300, 96300, 97500, 556790)]"
      ]
     },
     "metadata": {},
     "execution_count": 18
    }
   ],
   "metadata": {}
  },
  {
   "cell_type": "code",
   "execution_count": 19,
   "source": [
    "kakao[0]"
   ],
   "outputs": [
    {
     "output_type": "execute_result",
     "data": {
      "text/plain": [
       "('16.06.03', 97000, 98600, 96900, 98000, 321405)"
      ]
     },
     "metadata": {},
     "execution_count": 19
    }
   ],
   "metadata": {}
  },
  {
   "cell_type": "code",
   "execution_count": 20,
   "source": [
    "kakao[0][0]"
   ],
   "outputs": [
    {
     "output_type": "execute_result",
     "data": {
      "text/plain": [
       "'16.06.03'"
      ]
     },
     "metadata": {},
     "execution_count": 20
    }
   ],
   "metadata": {}
  },
  {
   "cell_type": "code",
   "execution_count": 21,
   "source": [
    "con.close()"
   ],
   "outputs": [],
   "metadata": {}
  },
  {
   "cell_type": "code",
   "execution_count": null,
   "source": [],
   "outputs": [],
   "metadata": {}
  }
 ],
 "metadata": {
  "orig_nbformat": 4,
  "language_info": {
   "name": "python",
   "version": "3.8.11",
   "mimetype": "text/x-python",
   "codemirror_mode": {
    "name": "ipython",
    "version": 3
   },
   "pygments_lexer": "ipython3",
   "nbconvert_exporter": "python",
   "file_extension": ".py"
  },
  "kernelspec": {
   "name": "python3",
   "display_name": "Python 3.8.11 32-bit ('kiwoom_env': conda)"
  },
  "interpreter": {
   "hash": "1d77e4c3da5f17513a8b2db08a39304e94736bd40c162528edcf50b77be7e9a5"
  }
 },
 "nbformat": 4,
 "nbformat_minor": 2
}